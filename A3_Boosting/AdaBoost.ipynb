{
 "cells": [
  {
   "cell_type": "code",
   "execution_count": null,
   "metadata": {},
   "outputs": [],
   "source": [
    "%reload_ext autoreload\n",
    "%autoreload 2\n",
    "\n",
    "import numpy as np\n",
    "from matplotlib import pyplot as plt\n",
    "from scipy import io as sio\n",
    "\n",
    "from utils import GenerateHaarFeatureMasks, ExtractHaarFeatures\n",
    "from classifier import WeakClassifier, WeakClassifierError\n",
    "\n",
    "plt.rcParams['figure.facecolor']='white'"
   ]
  },
  {
   "cell_type": "code",
   "execution_count": null,
   "metadata": {},
   "outputs": [],
   "source": [
    "# Hyper-parameters\n",
    "\n",
    "# Number of randomized Haar-features\n",
    "nbrHaarFeatures = 25\n",
    "\n",
    "# Number of training images, will be evenly split between faces and\n",
    "# non-faces. (Should be even.)\n",
    "nbrTrainImages = 500\n",
    "\n",
    "# Number of weak classifiers\n",
    "nbrWeakClassifiers = 30"
   ]
  },
  {
   "cell_type": "code",
   "execution_count": null,
   "metadata": {},
   "outputs": [],
   "source": [
    "# Load face and non-face data and plot a few examples\n",
    "faces = sio.loadmat('faces.mat')['faces']\n",
    "nonfaces = sio.loadmat('nonfaces.mat')['nonfaces']\n",
    "\n",
    "faces = faces.astype('double')[:,:,np.random.permutation(faces.shape[-1])]\n",
    "nonfaces = nonfaces.astype('double')[:,:,np.random.permutation(nonfaces.shape[-1])]\n",
    "\n",
    "plt.figure()\n",
    "for i in range(25):\n",
    "    plt.subplot(5,5,i+1)\n",
    "    plt.imshow(faces[:,:,10*i], cmap='gray')\n",
    "    plt.axis('off')\n",
    "plt.suptitle('Faces')\n",
    "\n",
    "plt.figure()\n",
    "for i in range(25):\n",
    "    plt.subplot(5,5,i+1)\n",
    "    plt.imshow(nonfaces[:,:,10*i], cmap='gray')\n",
    "    plt.axis('off')\n",
    "plt.suptitle('Non-faces')\n",
    "plt.show()"
   ]
  },
  {
   "cell_type": "code",
   "execution_count": null,
   "metadata": {},
   "outputs": [],
   "source": [
    "# Generate Haar feature masks\n",
    "haarFeatureMasks = GenerateHaarFeatureMasks(nbrHaarFeatures)\n",
    "\n",
    "plt.figure()\n",
    "for k in range(25):\n",
    "    plt.subplot(5,5,k+1)\n",
    "    plt.imshow(haarFeatureMasks[:,:,k], cmap='gray', vmin=-1, vmax=2)\n",
    "    plt.axis('off')\n",
    "plt.suptitle('Haar features')\n",
    "plt.show()"
   ]
  },
  {
   "cell_type": "code",
   "execution_count": null,
   "metadata": {},
   "outputs": [],
   "source": [
    "# Create image sets (do not modify!)\n",
    "\n",
    "# Create a training data set with examples from both classes.\n",
    "# Non-faces = class label y=-1, faces = class label y=1\n",
    "trainImages = np.concatenate((faces[:,:,:nbrTrainImages//2], nonfaces[:,:,:nbrTrainImages//2]), axis=2)\n",
    "xTrain = ExtractHaarFeatures(trainImages,haarFeatureMasks)\n",
    "yTrain = np.concatenate((np.ones(nbrTrainImages//2), -np.ones(nbrTrainImages//2)))\n",
    "\n",
    "# Create a test data set, using the rest of the faces and non-faces.\n",
    "testImages  = np.concatenate((faces[:,:,nbrTrainImages//2:], nonfaces[:,:,nbrTrainImages//2:]), axis=2)\n",
    "xTest = ExtractHaarFeatures(testImages,haarFeatureMasks)\n",
    "yTest = np.concatenate((np.ones(faces.shape[2]-nbrTrainImages//2), -np.ones(nonfaces.shape[2]-nbrTrainImages//2)))\n",
    "\n",
    "# Variable for the number of test-data.\n",
    "nbrTestImages = yTest.shape"
   ]
  },
  {
   "cell_type": "code",
   "execution_count": null,
   "metadata": {},
   "outputs": [],
   "source": [
    "# Implement the AdaBoost training here\n",
    "# Use your implementation of WeakClassifier and WeakClassifierError in classifier.py\n",
    "\n"
   ]
  },
  {
   "cell_type": "code",
   "execution_count": null,
   "metadata": {},
   "outputs": [],
   "source": [
    "# Evaluate your strong classifier here\n",
    "# Evaluate on both the training data and test data, but only the test accuracy\n",
    "# can be used as a performance metric since the training accuracy is biased.\n",
    "\n"
   ]
  },
  {
   "cell_type": "code",
   "execution_count": null,
   "metadata": {},
   "outputs": [],
   "source": [
    "# Plot the error of the strong classifier as a function of the number of weak classifiers.\n",
    "# Note: you can find this error without re-training with a different number of weak classifiers.\n",
    "\n"
   ]
  },
  {
   "cell_type": "code",
   "execution_count": null,
   "metadata": {},
   "outputs": [],
   "source": [
    "# Plot some of the misclassified faces and non-faces\n",
    "# Use the subplot command to make nice figures with multiple images.\n",
    "\n"
   ]
  },
  {
   "cell_type": "code",
   "execution_count": null,
   "metadata": {},
   "outputs": [],
   "source": [
    "# Plot your choosen Haar-features\n",
    "# Use the subplot command to make nice figures with multiple images.\n",
    "\n"
   ]
  }
 ],
 "metadata": {
  "interpreter": {
   "hash": "bd50aace418a96e8a4fe691a4d2292bd7058ca4eeebcf0b6e2084f539c4e7b28"
  },
  "kernelspec": {
   "display_name": "Python 3 (ipykernel)",
   "language": "python",
   "name": "python3"
  },
  "language_info": {
   "codemirror_mode": {
    "name": "ipython",
    "version": 3
   },
   "file_extension": ".py",
   "mimetype": "text/x-python",
   "name": "python",
   "nbconvert_exporter": "python",
   "pygments_lexer": "ipython3",
   "version": "3.8.12"
  }
 },
 "nbformat": 4,
 "nbformat_minor": 4
}
