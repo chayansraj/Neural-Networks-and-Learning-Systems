{
 "cells": [
  {
   "cell_type": "code",
   "execution_count": 18,
   "metadata": {},
   "outputs": [],
   "source": [
    "%reload_ext autoreload\n",
    "%autoreload 2\n",
    "%matplotlib inline\n",
    "\n",
    "import numpy as np\n",
    "from matplotlib import pyplot as plt\n",
    "\n",
    "from world import World\n",
    "from utils import plotarrows, getpolicy, getvalue\n",
    "\n",
    "plt.rcParams['figure.facecolor']='white'"
   ]
  },
  {
   "cell_type": "code",
   "execution_count": 2,
   "metadata": {},
   "outputs": [],
   "source": [
    "which_world = 1 #Change later. Valid options: [1-4]"
   ]
  },
  {
   "cell_type": "code",
   "execution_count": 3,
   "metadata": {},
   "outputs": [
    {
     "data": {
      "image/png": "[encoded data removed]",
      "text/plain": [
       "<Figure size 432x288 with 1 Axes>"
      ]
     },
     "metadata": {},
     "output_type": "display_data"
    }
   ],
   "source": [
    "# Initialization\n",
    "# Initialize the world, Q-table, and hyperparameters\n",
    "\n",
    "# Init world and draw\n",
    "world = World(which_world)\n",
    "world.draw()\n",
    "\n",
    "# Init Q-table\n",
    "x_size = world.x_size # 15\n",
    "y_size = world.y_size # 10\n",
    "n_actions = 4 # up, down, left ,right\n",
    "\n",
    "#q_table = np.zeros((y_size, x_size, n_actions)) # We start with 0 for now: lecturer says small value... Why? Slow training\n",
    "q_table = (-1/10)*np.ones((y_size, x_size, n_actions)) # Lets try small negative values everywhere. Right now we have no feedback/reward\n",
    "q_table[world.term[0], world.term[1]] = 100\n",
    "# for when the agent achieves the goal... world.feed doesnt have a positive reward in terminal state !?!?!\n",
    "\n",
    "# Init hyperparams\n",
    "lr = 0.25 # Recommended start lr [0.1, 0.5]\n",
    "discount = 0.9 # Recommended start at 0.9\n",
    "epsilon = 0.9 # Higher epsilon focus on exploration, lower on exploitation\n",
    "n_episodes = 5 #1000 # Number of iterations\n"
   ]
  },
  {
   "cell_type": "code",
   "execution_count": 6,
   "metadata": {},
   "outputs": [],
   "source": [
    "#print(f\"Starting position: {world.pos}\")\n",
    "#print(f\"Feed map matrix: {world.feed}\")\n",
    "#print(f\"Goal position. {world.term}\")\n",
    "#print(f\"Max reward: {np.max(world.feed)}\")\n",
    "#print(f\"Q-TABLE: {q_table}\")"
   ]
  },
  {
   "cell_type": "code",
   "execution_count": 4,
   "metadata": {},
   "outputs": [
    {
     "name": "stdout",
     "output_type": "stream",
     "text": [
      "Reached terminal node at (3, 12) \n",
      " Gained reward is 100\n"
     ]
    },
    {
     "data": {
      "image/png": "[encoded data removed]",
      "text/plain": [
       "<Figure size 432x288 with 1 Axes>"
      ]
     },
     "metadata": {},
     "output_type": "display_data"
    }
   ],
   "source": [
    "def greedy_exploration(current_loc, epsilon = epsilon):\n",
    "    \"\"\"Function to implement epsilon-greedy exploration\"\"\"\n",
    "    if np.random.random() < epsilon: # Random action\n",
    "        return np.random.randint(4) + 1 # Generate integer between 1 and 4\n",
    "    else: #Greedy action\n",
    "        return np.argmax(q_table[current_loc[0],current_loc[1]]) + 1\n",
    "\n",
    "n_episodes = 20\n",
    "### The training loop\n",
    "for episode in range(n_episodes):\n",
    "    if episode != 0: # If not first episode -> init a new world\n",
    "        world = World(which_world)\n",
    "    # Find current position at start of new episode\n",
    "    current_location = world.pos\n",
    "    \n",
    "    print(f\"Episode: {episode}\")\n",
    "    while world.pos != world.term: # While not in a terminal state do\n",
    "        previous_location = world.pos\n",
    "        # Decide which action to take\n",
    "        action = greedy_exploration(current_location, epsilon)\n",
    "        # Take the action\n",
    "        action_data = world.action(action)\n",
    "        world.draw(episode = episode)\n",
    "        # Get new location\n",
    "        current_location = world.pos\n",
    "        # Get the reward for moving to the new location\n",
    "        if action_data[0] == 0:\n",
    "            reward = -100 # If invalid action then negative reward\n",
    "        else:\n",
    "            reward = action_data[1] # else actual reward\n",
    "            \n",
    "        if world.pos == world.term:\n",
    "            reward = 100 # Big reward if hit terminal\n",
    "            print(f\"Reached terminal node at {world.pos} \\n Gained reward is {reward}\")\n",
    "        # Compute the q_val in previous location given the action we made\n",
    "        prev_q_val = q_table[previous_location[0], previous_location[1], action-1]\n",
    "        # Compute temporal difference\n",
    "        temp_diff = reward + (discount * np.max(q_table[current_location[0], current_location[1]])) - prev_q_val\n",
    "        # Compute the new q value\n",
    "        updated_q_val = prev_q_val + (lr * temp_diff)\n",
    "        # Update the qtable with the new q value for the previous location\n",
    "        q_table[previous_location[0], previous_location[1], action-1] = updated_q_val\n",
    "    \n",
    "    # Decrease exploration over the episodes\n",
    "    epsilon = epsilon * 0.90\n",
    "        "
   ]
  },
  {
   "cell_type": "code",
   "execution_count": 27,
   "metadata": {},
   "outputs": [
    {
     "data": {
      "text/plain": [
       "array([[-4.42484974e-01, -4.33172866e-01, -4.25821319e-01,\n",
       "        -4.39383900e-01, -1.98304907e-01, -1.11062500e+00,\n",
       "        -1.73594922e+00, -2.28589944e-01, -1.84146484e-01,\n",
       "        -1.60890625e-01, -1.39375000e-01, -1.22500000e-01,\n",
       "        -1.00000000e-01, -1.22500000e-01, -1.39375000e-01],\n",
       "       [-4.39074090e-01, -4.29293413e-01, -4.28773427e-01,\n",
       "        -4.31941756e-01, -3.51887892e-01, -1.66285937e+00,\n",
       "        -1.11062500e+00, -1.69528516e-01, -1.88133203e-01,\n",
       "        -1.52031250e-01, -1.44437500e-01, -1.22500000e-01,\n",
       "         1.05537500e+01, -1.00000000e-01, -1.22500000e-01],\n",
       "       [-4.28240725e-01, -4.23735084e-01, -4.19927071e-01,\n",
       "        -4.25645426e-01, -2.57296418e-01, -1.70318403e+00,\n",
       "        -9.04890625e-01, -1.22500000e-01, -1.77027344e-01,\n",
       "        -1.44437500e-01, -1.44437500e-01,  2.45884766e+01,\n",
       "         1.29851172e+02,  1.85904687e+01, -1.00000000e-01],\n",
       "       [-4.31367410e-01, -4.31087986e-01, -4.27694661e-01,\n",
       "        -4.21086396e-01, -3.73696858e-01, -1.97958203e+00,\n",
       "        -1.11948437e+00, -1.74844141e-01, -1.96249023e-01,\n",
       "        -1.66585938e-01,  1.85735938e+01,  1.09801562e+02,\n",
       "         1.00000000e+02, -1.00000000e-01, -1.00000000e-01],\n",
       "       [-4.24801190e-01, -4.26106498e-01, -4.17490419e-01,\n",
       "        -4.17557909e-01, -2.18084060e-01, -6.77500000e-01,\n",
       "        -1.24056250e+00, -1.86994141e-01, -1.71521875e-01,\n",
       "        -1.66585938e-01,  9.92171094e+00,  1.46515069e+02,\n",
       "         1.85483744e+02, -1.00000000e-01, -1.00000000e-01],\n",
       "       [-4.19166720e-01, -4.18223693e-01, -4.10959515e-01,\n",
       "        -4.10095432e-01, -3.13444165e-01, -6.77500000e-01,\n",
       "        -6.77500000e-01, -1.78641016e-01, -1.60890625e-01,\n",
       "         5.36393213e+00,  3.68140710e+01,  1.00280633e+02,\n",
       "         8.12162645e+01, -1.22500000e-01, -1.22500000e-01],\n",
       "       [-4.13482825e-01, -4.12462890e-01, -4.04065943e-01,\n",
       "        -4.04528286e-01, -2.38161420e-01, -6.77500000e-01,\n",
       "        -6.77500000e-01, -1.50227734e-01, -1.75366211e-01,\n",
       "         3.59744543e-03,  5.06217780e+00,  4.39340540e+01,\n",
       "         1.82125089e+01,  1.48746926e+00, -1.52031250e-01],\n",
       "       [-4.04964743e-01, -4.06547501e-01, -3.95510734e-01,\n",
       "        -3.95603075e-01, -2.69073174e-01, -2.05853626e-01,\n",
       "        -2.30999462e-01, -2.03965193e-01, -2.14397270e-01,\n",
       "        -2.13739862e-01, -1.92404688e-01,  1.13451063e+01,\n",
       "        -1.70382813e-01, -1.67535156e-01, -1.66082852e-01],\n",
       "       [-3.98965383e-01, -4.00920300e-01, -4.01367413e-01,\n",
       "        -3.86399396e-01, -3.68324433e-01, -3.45898302e-01,\n",
       "        -3.19956844e-01, -2.93725953e-01, -2.55540897e-01,\n",
       "        -2.32541151e-01, -1.70012029e-01,  1.13119138e+00,\n",
       "        -1.74369531e-01, -1.66585938e-01, -1.63332490e-01],\n",
       "       [-3.99578488e-01, -3.94502477e-01, -3.93440105e-01,\n",
       "        -3.95407278e-01, -3.64173195e-01, -3.44434244e-01,\n",
       "        -3.24968804e-01, -2.98152246e-01, -2.60887490e-01,\n",
       "        -2.41499004e-01, -2.33340102e-01, -2.05327708e-01,\n",
       "        -1.95722207e-01, -1.84858398e-01, -1.66585938e-01]])"
      ]
     },
     "execution_count": 27,
     "metadata": {},
     "output_type": "execute_result"
    }
   ],
   "source": [
    "getvalue(q_table)"
   ]
  },
  {
   "cell_type": "code",
   "execution_count": 32,
   "metadata": {},
   "outputs": [
    {
     "data": {
      "text/plain": [
       "-0.4331728661037537"
      ]
     },
     "execution_count": 32,
     "metadata": {},
     "output_type": "execute_result"
    }
   ],
   "source": [
    "getpolicy(q_table)[0][1]"
   ]
  },
  {
   "cell_type": "code",
   "execution_count": 13,
   "metadata": {},
   "outputs": [
    {
     "ename": "KeyboardInterrupt",
     "evalue": "",
     "output_type": "error",
     "traceback": [
      "\u001b[0;31m---------------------------------------------------------------------------\u001b[0m",
      "\u001b[0;31mKeyboardInterrupt\u001b[0m                         Traceback (most recent call last)",
      "\u001b[0;32m/tmp/ipykernel_23769/3798513590.py\u001b[0m in \u001b[0;36m<module>\u001b[0;34m\u001b[0m\n\u001b[1;32m     13\u001b[0m     \u001b[0mprint\u001b[0m\u001b[0;34m(\u001b[0m\u001b[0;34mf\"Policy action: {policy_action}\"\u001b[0m\u001b[0;34m)\u001b[0m\u001b[0;34m\u001b[0m\u001b[0;34m\u001b[0m\u001b[0m\n\u001b[1;32m     14\u001b[0m     \u001b[0mworld\u001b[0m\u001b[0;34m.\u001b[0m\u001b[0maction\u001b[0m\u001b[0;34m(\u001b[0m\u001b[0mpolicy_action\u001b[0m\u001b[0;34m)\u001b[0m\u001b[0;34m\u001b[0m\u001b[0;34m\u001b[0m\u001b[0m\n\u001b[0;32m---> 15\u001b[0;31m     \u001b[0mworld\u001b[0m\u001b[0;34m.\u001b[0m\u001b[0mdraw\u001b[0m\u001b[0;34m(\u001b[0m\u001b[0mpolicy\u001b[0m \u001b[0;34m=\u001b[0m \u001b[0mpol\u001b[0m\u001b[0;34m)\u001b[0m\u001b[0;34m\u001b[0m\u001b[0;34m\u001b[0m\u001b[0m\n\u001b[0m\u001b[1;32m     16\u001b[0m \u001b[0;34m\u001b[0m\u001b[0m\n\u001b[1;32m     17\u001b[0m \u001b[0;34m\u001b[0m\u001b[0m\n",
      "\u001b[0;32m~/Documents/Neural-Networks-and-Learning-Systems/A4_Reinforcement/world.py\u001b[0m in \u001b[0;36mdraw\u001b[0;34m(self, episode, policy, sleepTime)\u001b[0m\n\u001b[1;32m     96\u001b[0m         \u001b[0mdisplay\u001b[0m\u001b[0;34m.\u001b[0m\u001b[0mdisplay\u001b[0m\u001b[0;34m(\u001b[0m\u001b[0mpl\u001b[0m\u001b[0;34m.\u001b[0m\u001b[0mgcf\u001b[0m\u001b[0;34m(\u001b[0m\u001b[0;34m)\u001b[0m\u001b[0;34m)\u001b[0m\u001b[0;34m\u001b[0m\u001b[0;34m\u001b[0m\u001b[0m\n\u001b[1;32m     97\u001b[0m         \u001b[0mdisplay\u001b[0m\u001b[0;34m.\u001b[0m\u001b[0mclear_output\u001b[0m\u001b[0;34m(\u001b[0m\u001b[0mwait\u001b[0m\u001b[0;34m=\u001b[0m\u001b[0;32mTrue\u001b[0m\u001b[0;34m)\u001b[0m\u001b[0;34m\u001b[0m\u001b[0;34m\u001b[0m\u001b[0m\n\u001b[0;32m---> 98\u001b[0;31m         \u001b[0mtime\u001b[0m\u001b[0;34m.\u001b[0m\u001b[0msleep\u001b[0m\u001b[0;34m(\u001b[0m\u001b[0msleepTime\u001b[0m\u001b[0;34m)\u001b[0m\u001b[0;34m\u001b[0m\u001b[0;34m\u001b[0m\u001b[0m\n\u001b[0m",
      "\u001b[0;31mKeyboardInterrupt\u001b[0m: "
     ]
    },
    {
     "data": {
      "image/png": "[encoded data removed]",
      "text/plain": [
       "<Figure size 432x288 with 1 Axes>"
      ]
     },
     "metadata": {},
     "output_type": "display_data"
    }
   ],
   "source": [
    "# Test loop\n",
    "# Test the agent (subjectively) by letting it use the optimal policy to traverse the gridworld.\n",
    "# Do not update the Q-table when testing.\n",
    "# Also, you should not explore when testing, i.e. epsilon=0; always pick the optimal action.\n",
    "epsilon = 0\n",
    "\n",
    "world = World(which_world)\n",
    "pol = getpolicy(q_table)\n",
    "\n",
    "while world.pos != world.term: # While not in a terminal state do\n",
    "    current_location = world.pos # Get starting position\n",
    "    policy_action = np.argmax(pol[current_location[0], current_location[1]]) + 1 # Get the action according to policy\n",
    "    print(f\"Policy action: {policy_action}\")\n",
    "    world.action(policy_action)\n",
    "    world.draw(policy = pol)\n",
    "\n",
    "    "
   ]
  }
 ],
 "metadata": {
  "interpreter": {
   "hash": "bd50aace418a96e8a4fe691a4d2292bd7058ca4eeebcf0b6e2084f539c4e7b28"
  },
  "kernelspec": {
   "display_name": "Python 3 (ipykernel)",
   "language": "python",
   "name": "python3"
  },
  "language_info": {
   "codemirror_mode": {
    "name": "ipython",
    "version": 3
   },
   "file_extension": ".py",
   "mimetype": "text/x-python",
   "name": "python",
   "nbconvert_exporter": "python",
   "pygments_lexer": "ipython3",
   "version": "3.7.11"
  }
 },
 "nbformat": 4,
 "nbformat_minor": 4
}
