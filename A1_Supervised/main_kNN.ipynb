{
 "cells": [
  {
   "cell_type": "markdown",
   "metadata": {},
   "source": [
    "### **0. Quick introduction to jupyter notebooks**\n",
    "* Each cell in this notebook contains either code or text.\n",
    "* You can run a cell by pressing Ctrl-Enter, or run and advance to the next cell with Shift-Enter.\n",
    "* You can create a cell above the current one by pressing A, or below by pressing B. This only works in command mode (press Esc when editing).\n",
    "* Code cells will print their output, including images, below the cell. Running it again deletes the previous output, so be careful if you want to save some reuslts.\n",
    "* You don't have to rerun all cells to test changes, just rerun the cell you have made changes to. Some exceptions might apply, for example if you overwrite variables from previous cells, but in general this will work.\n",
    "* If all else fails, use the \"Kernel\" menu and select \"Restart Kernel and Clear All Output\". You can also use this menu to run all cells."
   ]
  },
  {
   "cell_type": "code",
   "execution_count": 1,
   "metadata": {},
   "outputs": [],
   "source": [
    "# This configures the notebook to automatically reload code when it is changed in imported functions.\n",
    "%reload_ext autoreload\n",
    "%autoreload 2\n",
    "\n",
    "# Import all we need\n",
    "import numpy as np\n",
    "from matplotlib import pyplot as plt\n",
    "\n",
    "from scipy import stats\n",
    "\n",
    "\n",
    "from utils import plotCase, loadDataSet, selectTrainingSamples, calcConfusionMatrix, calcAccuracy, plotResultDots, plotResultsOCR\n",
    "from classifiers import kNN, kNN_CV \n",
    "\n",
    "plt.rcParams['figure.facecolor']='white'"
   ]
  },
  {
   "cell_type": "code",
   "execution_count": 2,
   "metadata": {},
   "outputs": [],
   "source": [
    "## Select which data to use:\n",
    "\n",
    "# 1 = dot cloud 1\n",
    "# 2 = dot cloud 2\n",
    "# 3 = dot cloud 3\n",
    "# 4 = OCR data\n",
    "\n",
    "dataSetNr = 4  # Change this to load new data\n",
    "\n",
    "# X - Data samples\n",
    "# D - Desired output from classifier for each sample\n",
    "# L - Labels for each sample\n",
    "X, D, L = loadDataSet(dataSetNr)\n",
    "\n",
    "# You can plot and study dataset 1 to 3 by running:\n",
    "if dataSetNr in [1,2,3]:\n",
    "    plotCase(X,L)"
   ]
  },
  {
   "cell_type": "code",
   "execution_count": 3,
   "metadata": {},
   "outputs": [],
   "source": [
    "# Select a subset of the training samples\n",
    "numBins = 5                     # Number of bins you want to divide your data into\n",
    "numSamplesPerLabelPerBin = np.inf  # Number of samples per label per bin, set to inf for max number (total number is numLabels*numSamplesPerBin)\n",
    "selectAtRandom = True           # true = select samples at random, false = select the first features\n",
    "\n",
    "# Split data into bins based on the settings above.\n",
    "# The outputs are lists of length numBins, where each item is a data array. Try printing for example XBins[0].shape.\n",
    "XBins, DBins, LBins = selectTrainingSamples(X, D, L, numSamplesPerLabelPerBin, numBins, selectAtRandom)\n",
    "\n",
    "# To extract a single bin from them use e.g.:\n",
    "# XBin0 = XBins[0]\n",
    "# Or to combine several bins into one matrix (good for cross validataion), use the numpy function concatenate:\n",
    "# XBinComb = np.concatenate(XBins[0:4])\n",
    "# This example combines 4 bins, nr 0 to 3.\n",
    "\n",
    "# Add your own code to setup data for training and test here\n",
    "if dataSetNr < 4:\n",
    "    XTrain = np.concatenate(XBins[:4])\n",
    "    LTrain = np.concatenate(LBins[:4])\n",
    "    XTest  = XBins[-1]\n",
    "    LTest  = LBins[-1]\n",
    "else:\n",
    "    XTrain = np.concatenate(XBins[:3])\n",
    "    LTrain = np.concatenate(LBins[:3])\n",
    "    XTest  = np.concatenate(XBins[3:])\n",
    "    LTest  = np.concatenate(LBins[3:])"
   ]
  },
  {
   "cell_type": "code",
   "execution_count": 4,
   "metadata": {},
   "outputs": [
    {
     "name": "stdout",
     "output_type": "stream",
     "text": [
      "Optimal k according to k-fold cross-validation: 3\n"
     ]
    }
   ],
   "source": [
    "# Select a value for k, either ...\n",
    "# ... set it manually\n",
    "#k = 1\n",
    "# ... or find an optimal value using cross-validation (skip this until you have a working implementation of kNN\n",
    "\n",
    "## Set up number of folds and the range of k to test\n",
    "if dataSetNr < 4:\n",
    "    num_folds = 10\n",
    "else:\n",
    "    num_folds = 5\n",
    "    \n",
    "\n",
    "accuracy_per_k = dict() # initalize dictionary\n",
    "for i in range(1,10): # Do cross-validation for k = 1,...,10\n",
    "    acc = kNN_CV(XTrain, LTrain, folds = num_folds, hyperparam = i)\n",
    "    accuracy_per_k[i] = acc\n",
    "\n",
    "optimal_k = max(accuracy_per_k, key=accuracy_per_k.get)\n",
    "\n",
    "print(f\"Optimal k according to k-fold cross-validation: {optimal_k}\")\n",
    "\n",
    "k = optimal_k"
   ]
  },
  {
   "cell_type": "code",
   "execution_count": 5,
   "metadata": {},
   "outputs": [],
   "source": [
    "# Classify training data\n",
    "LPredTrain = kNN(XTrain, k, XTrain, LTrain)\n",
    "# Classify test data\n",
    "LPredTest  = kNN(XTest , k, XTrain, LTrain)"
   ]
  },
  {
   "cell_type": "code",
   "execution_count": 6,
   "metadata": {},
   "outputs": [
    {
     "name": "stdout",
     "output_type": "stream",
     "text": [
      "Confusion matrix:\n",
      "[[219.   0.   0.   0.   0.   0.   0.   0.   1.   0.]\n",
      " [  0. 219.   0.   0.   1.   0.   1.   0.   8.   1.]\n",
      " [  0.   1. 220.   0.   0.   0.   0.   0.   2.   0.]\n",
      " [  0.   0.   0. 216.   0.   1.   0.   0.   2.   5.]\n",
      " [  1.   0.   0.   0. 212.   0.   0.   0.   0.   0.]\n",
      " [  0.   0.   0.   1.   0. 216.   1.   0.   0.   1.]\n",
      " [  0.   0.   0.   0.   1.   1. 218.   0.   2.   0.]\n",
      " [  0.   0.   0.   1.   2.   0.   0. 218.   0.   1.]\n",
      " [  0.   0.   0.   0.   0.   0.   0.   0. 204.   2.]\n",
      " [  0.   0.   0.   2.   4.   2.   0.   2.   1. 210.]]\n",
      "Accuracy: 0.9782\n"
     ]
    }
   ],
   "source": [
    "# Calculate The Confusion Matrix and the Accuracy\n",
    "# Note: you have to modify the calcConfusionMatrix() and calcAccuracy() functions in utils.py yourself.\n",
    "\n",
    "LPredTest = LPredTest.astype(int)\n",
    "# The confusion matrix\n",
    "cM = calcConfusionMatrix(LPredTest, LTest)\n",
    "\n",
    "# The accuracy\n",
    "acc = calcAccuracy(cM)\n",
    "\n",
    "# Print the results\n",
    "print(\"Confusion matrix:\")\n",
    "print(cM)\n",
    "print(f'Accuracy: {acc:.4f}')"
   ]
  },
  {
   "cell_type": "code",
   "execution_count": 7,
   "metadata": {},
   "outputs": [
    {
     "data": {
      "image/png": "[encoded data removed]",
      "text/plain": [
       "<Figure size 432x288 with 16 Axes>"
      ]
     },
     "metadata": {},
     "output_type": "display_data"
    }
   ],
   "source": [
    "# Plot classifications\n",
    "# Note: You should not have to modify this code\n",
    "\n",
    "if dataSetNr < 4:\n",
    "    plotResultDots(XTrain, LTrain, LPredTrain, XTest, LTest, LPredTest, 'kNN', [], k)\n",
    "else:\n",
    "    plotResultsOCR(XTest, LTest, LPredTest)"
   ]
  }
 ],
 "metadata": {
  "interpreter": {
   "hash": "bd50aace418a96e8a4fe691a4d2292bd7058ca4eeebcf0b6e2084f539c4e7b28"
  },
  "kernelspec": {
   "display_name": "Python 3 (ipykernel)",
   "language": "python",
   "name": "python3"
  },
  "language_info": {
   "codemirror_mode": {
    "name": "ipython",
    "version": 3
   },
   "file_extension": ".py",
   "mimetype": "text/x-python",
   "name": "python",
   "nbconvert_exporter": "python",
   "pygments_lexer": "ipython3",
   "version": "3.7.11"
  }
 },
 "nbformat": 4,
 "nbformat_minor": 4
}
