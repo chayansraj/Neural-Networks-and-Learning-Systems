{
 "cells": [
  {
   "cell_type": "code",
   "execution_count": null,
   "id": "836d2eba",
   "metadata": {},
   "outputs": [],
   "source": [
    "if batchsize == True:\n",
    "            \n",
    "            estm = YTrain - DTrain\n",
    "            full_mat = np.hstack((XTrain,estm))\n",
    "            np.random.shuffle(full_mat)\n",
    "\n",
    "            # Implementation of Stochastic Gradient Descent\n",
    "            for batch_start in (0,XTrain.shape[0],batchsize):\n",
    "\n",
    "                batch_stop = batch_start + batchsize\n",
    "\n",
    "\n",
    "                # Add your own code here\n",
    "                grad_w = 2/batchsize * np.matmul(full_mat[batch_start:batch_stop, :XTrain.shape[1]].transpose(),(full_mat[batch_start:batch_stop, -estm.shape[1]:]))\n",
    "\n",
    "                #print(f\"Iteration {n}\")\n",
    "\n",
    "                # Take a learning step\n",
    "                Wout = Wout - learningRate * grad_w\n",
    "\n",
    "                # Evaluate errors\n",
    "                YTrain, LTrain = runSingleLayer(XTrain, Wout)\n",
    "                YTest, LTrain  = runSingleLayer(XTest , Wout)\n",
    "            ErrTrain[n+1] = ((YTrain - DTrain) ** 2).sum() / NTrain\n",
    "            ErrTest[n+1]  = ((YTest  - DTest ) ** 2).sum() / NTest\n",
    "    print(f'{n+1} epoch completed')"
   ]
  }
 ],
 "metadata": {
  "kernelspec": {
   "display_name": "Python 3 (ipykernel)",
   "language": "python",
   "name": "python3"
  },
  "language_info": {
   "codemirror_mode": {
    "name": "ipython",
    "version": 3
   },
   "file_extension": ".py",
   "mimetype": "text/x-python",
   "name": "python",
   "nbconvert_exporter": "python",
   "pygments_lexer": "ipython3",
   "version": "3.7.11"
  }
 },
 "nbformat": 4,
 "nbformat_minor": 5
}
