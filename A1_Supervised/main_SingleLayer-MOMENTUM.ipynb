{
 "cells": [
  {
   "cell_type": "code",
   "execution_count": 1,
   "metadata": {},
   "outputs": [],
   "source": [
    "%reload_ext autoreload\n",
    "%autoreload 2\n",
    "\n",
    "import numpy as np\n",
    "from matplotlib import pyplot as plt\n",
    "\n",
    "from utils import plotCase, loadDataSet, selectTrainingSamples, calcConfusionMatrix, calcAccuracy, plotResultDots, plotResultsOCR\n",
    "from classifiersMOMENTUM import trainSingleLayer, runSingleLayer\n",
    "\n",
    "plt.rcParams['figure.facecolor']='white'"
   ]
  },
  {
   "cell_type": "code",
   "execution_count": 318,
   "metadata": {},
   "outputs": [],
   "source": [
    "# This script will help you test your single layer neural network code\n",
    "# Select which data to use:\n",
    "\n",
    "# 1 = dot cloud 1\n",
    "# 2 = dot cloud 2\n",
    "# 3 = dot cloud 3\n",
    "# 4 = OCR data\n",
    "\n",
    "dataSetNr = 4; # Change this to load new data\n",
    "\n",
    "# X - Data samples\n",
    "# D - Desired output from classifier for each sample\n",
    "# L - Labels for each sample\n",
    "X, D, L = loadDataSet(dataSetNr)"
   ]
  },
  {
   "cell_type": "code",
   "execution_count": 319,
   "metadata": {},
   "outputs": [],
   "source": [
    "# Select a subset of the training samples\n",
    "numBins = 2                        # Number of bins you want to divide your data into\n",
    "numSamplesPerLabelPerBin = np.inf  # Number of samples per label per bin, set to inf for max number (total number is numLabels*numSamplesPerBin)\n",
    "selectAtRandom = True              # true = select samples at random, false = select the first features\n",
    "\n",
    "# Split data into bins based on the settings above.\n",
    "# The outputs are lists of length numBins, where each item is a data array. Try printing for example XBins[0].shape.\n",
    "XBins, DBins, LBins = selectTrainingSamples(X, D, L, numSamplesPerLabelPerBin, numBins, selectAtRandom)\n",
    "\n",
    "# To extract a single bin from them use e.g.:\n",
    "# XBin0 = XBins[0]\n",
    "# Or to combine several bins into one matrix (good for cross validataion), use the numpy function concatenate:\n",
    "# XBinComb = np.concatenate(XBins[0:4])\n",
    "# This example combines 4 bins, nr 0 to 3.\n",
    "\n",
    "# Randomly select which Bins to use for training and testing\n",
    "whichBinTrain = np.random.binomial(1, 0.5) # Training Bin will be the draw from a binomial distribution with p = 0.5\n",
    "whichBinTest = abs(whichBinTrain-1) # Testing data is the other Bin\n",
    "\n",
    "# Add your own code to setup data for training and test here\n",
    "XTrain = XBins[whichBinTrain]\n",
    "DTrain = DBins[whichBinTrain]\n",
    "LTrain = LBins[whichBinTrain]\n",
    "XTest  = XBins[whichBinTest]\n",
    "DTest  = DBins[whichBinTest]\n",
    "LTest  = LBins[whichBinTest]"
   ]
  },
  {
   "cell_type": "code",
   "execution_count": 320,
   "metadata": {},
   "outputs": [],
   "source": [
    "# Modify the X Matrices so that a bias is added\n",
    "# Note that the bias must be the last feature for the plot code to work\n",
    "\n",
    "# The training data with bias column added\n",
    "XTrain = np.hstack((XTrain,np.ones([XTrain.shape[0],1], XTrain.dtype)))\n",
    "# The test data with bias column added\n",
    "XTest = np.hstack((XTest,np.ones([XTest.shape[0],1], XTest.dtype)))"
   ]
  },
  {
   "cell_type": "code",
   "execution_count": 321,
   "metadata": {},
   "outputs": [
    {
     "data": {
      "text/plain": [
       "(2770, 65)"
      ]
     },
     "execution_count": 321,
     "metadata": {},
     "output_type": "execute_result"
    }
   ],
   "source": [
    "XTrain.shape"
   ]
  },
  {
   "cell_type": "code",
   "execution_count": 337,
   "metadata": {},
   "outputs": [],
   "source": [
    "# Train your single layer network\n",
    "# Note: You need to modify trainSingleLayer() and runSingleLayer() in order to train the network\n",
    "\n",
    "Nclasses = len(np.unique(LTrain))\n",
    "numIterations = 300;  # Change this, number of iterations (epochs)\n",
    "learningRate  = 0.01; # Change this, your learning rate\n",
    "\n",
    "if dataSetNr < 4:\n",
    "    if dataSetNr == 1:\n",
    "        numIterations = 20\n",
    "        np.random.seed(200)\n",
    "        W0 = np.array(np.random.rand(XTrain.shape[1] * Nclasses)).reshape((XTrain.shape[1],Nclasses))\n",
    "        learningRate  = 0.01; \n",
    "    if dataSetNr == 2:\n",
    "        numIterations = 50\n",
    "        np.random.seed(300)\n",
    "        W0 = np.array(np.random.rand(XTrain.shape[1] * Nclasses)).reshape((XTrain.shape[1],Nclasses))\n",
    "        learningRate  = 0.01; \n",
    "    if dataSetNr == 3:\n",
    "        numIterations = 200\n",
    "        np.random.seed(0)\n",
    "        W0 = np.array(np.random.rand(XTrain.shape[1] * Nclasses)).reshape((XTrain.shape[1],Nclasses))\n",
    "        learningRate  = 0.01; \n",
    "    \n",
    "else:\n",
    "    np.random.seed(0)\n",
    "    learningRate = 0.0001\n",
    "    W0 = np.random.rand(len(np.unique(LTrain))*65).reshape((XTrain.shape[1],len(np.unique(LTrain))))\n",
    "\n",
    "# Run training loop\n",
    "W, ErrTrain, ErrTest = trainSingleLayer(XTrain, DTrain, XTest, DTest, W0, numIterations, learningRate, momentum=0.95)"
   ]
  },
  {
   "cell_type": "code",
   "execution_count": 338,
   "metadata": {},
   "outputs": [
    {
     "data": {
      "image/png": "[encoded data removed]",
      "text/plain": [
       "<Figure size 432x288 with 1 Axes>"
      ]
     },
     "metadata": {},
     "output_type": "display_data"
    }
   ],
   "source": [
    "# Plot errors\n",
    "# Note: You should not have to modify this code\n",
    "\n",
    "minErrTest = ErrTest.min()\n",
    "minErrTestInd = ErrTest.argmin()\n",
    "\n",
    "plt.figure()\n",
    "\n",
    "plt.semilogy(ErrTrain, 'k', linewidth=1.5, label='Training Error')\n",
    "plt.semilogy(ErrTest, 'r', linewidth=1.5, label='Test Error')\n",
    "plt.semilogy(minErrTestInd, minErrTest, 'bo', linewidth=1.5, label='Min Test Error')\n",
    "\n",
    "plt.xlim([0,numIterations])\n",
    "plt.grid('on')\n",
    "plt.title('Training and Test Errors, Single Layer')\n",
    "plt.legend()\n",
    "plt.xlabel('Epochs')\n",
    "plt.ylabel('Error')\n",
    "plt.show()"
   ]
  },
  {
   "cell_type": "code",
   "execution_count": 339,
   "metadata": {},
   "outputs": [
    {
     "name": "stdout",
     "output_type": "stream",
     "text": [
      "Confusion matrix:\n",
      "[[274.   0.   5.   1.   1.   1.   1.   0.   4.   8.]\n",
      " [  0. 236.   5.   1.   2.   1.   1.   2.  34.   5.]\n",
      " [  0.  16. 256.   3.   0.   3.   0.   0.   5.   1.]\n",
      " [  0.   0.   0. 256.   0.   0.   0.   1.   4.   3.]\n",
      " [  2.   0.   0.   0. 258.   2.   1.   0.   3.   9.]\n",
      " [  0.   1.   0.   2.   0. 246.   0.   0.   1.   1.]\n",
      " [  1.   7.   1.   1.   4.   4. 274.   0.  15.   0.]\n",
      " [  0.   2.   8.   5.  12.   3.   0. 273.  14.  20.]\n",
      " [  0.   1.   1.   2.   0.   0.   0.   1. 184.   1.]\n",
      " [  0.  14.   1.   6.   0.  17.   0.   0.  13. 229.]]\n",
      "Accuracy: 0.8975\n"
     ]
    }
   ],
   "source": [
    "# Calculate the Confusion Matrix and the Accuracy of the data\n",
    "# Note: you have to modify the calcConfusionMatrix() and calcAccuracy() functions in utils.py yourself.\n",
    "\n",
    "YPredTrain, LPredTrain = runSingleLayer(XTrain, W)\n",
    "YPredTest, LPredTest  = runSingleLayer(XTest , W)\n",
    "\n",
    "# The confusion matrix\n",
    "cM = calcConfusionMatrix(LPredTest, LTest)\n",
    "\n",
    "# The accuracy\n",
    "acc = calcAccuracy(cM)\n",
    "\n",
    "# Print the results\n",
    "print(\"Confusion matrix:\")\n",
    "print(cM)\n",
    "print(f'Accuracy: {acc:.4f}')"
   ]
  },
  {
   "cell_type": "code",
   "execution_count": 340,
   "metadata": {},
   "outputs": [
    {
     "data": {
      "image/png": "[encoded data removed]",
      "text/plain": [
       "<Figure size 432x288 with 16 Axes>"
      ]
     },
     "metadata": {},
     "output_type": "display_data"
    }
   ],
   "source": [
    "# Plot classifications\n",
    "# Note: You should not have to modify this code\n",
    "\n",
    "if dataSetNr < 4:\n",
    "    plotResultDots(XTrain, LTrain, LPredTrain, XTest, LTest, LPredTest, 'single', W, [])\n",
    "else:\n",
    "    plotResultsOCR(XTest, LTest, LPredTest)"
   ]
  },
  {
   "cell_type": "code",
   "execution_count": null,
   "metadata": {},
   "outputs": [],
   "source": []
  },
  {
   "cell_type": "code",
   "execution_count": null,
   "metadata": {},
   "outputs": [],
   "source": []
  }
 ],
 "metadata": {
  "interpreter": {
   "hash": "bd50aace418a96e8a4fe691a4d2292bd7058ca4eeebcf0b6e2084f539c4e7b28"
  },
  "kernelspec": {
   "display_name": "Python 3 (ipykernel)",
   "language": "python",
   "name": "python3"
  },
  "language_info": {
   "codemirror_mode": {
    "name": "ipython",
    "version": 3
   },
   "file_extension": ".py",
   "mimetype": "text/x-python",
   "name": "python",
   "nbconvert_exporter": "python",
   "pygments_lexer": "ipython3",
   "version": "3.7.11"
  }
 },
 "nbformat": 4,
 "nbformat_minor": 4
}
