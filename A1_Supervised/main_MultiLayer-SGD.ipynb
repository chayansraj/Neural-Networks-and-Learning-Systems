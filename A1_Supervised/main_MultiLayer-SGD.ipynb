{
 "cells": [
  {
   "cell_type": "code",
   "execution_count": 1,
   "metadata": {},
   "outputs": [],
   "source": [
    "%reload_ext autoreload\n",
    "%autoreload 2\n",
    "\n",
    "\n",
    "import numpy as np\n",
    "from matplotlib import pyplot as plt\n",
    "\n",
    "from utils import plotCase, loadDataSet, selectTrainingSamples, calcConfusionMatrix, calcAccuracy, plotResultDots, plotResultsOCR\n",
    "from classifiersSGD import trainMultiLayer, runMultiLayer\n",
    "\n",
    "plt.rcParams['figure.facecolor']='white'"
   ]
  },
  {
   "cell_type": "code",
   "execution_count": 2,
   "metadata": {},
   "outputs": [],
   "source": [
    "# This script will help you test your single layer neural network code\n",
    "# Select which data to use:\n",
    "\n",
    "# 1 = dot cloud 1\n",
    "# 2 = dot cloud 2\n",
    "# 3 = dot cloud 3\n",
    "# 4 = OCR data\n",
    "\n",
    "dataSetNr = 4; # Change this to load new data\n",
    "\n",
    "# X - Data samples\n",
    "# D - Desired output from classifier for each sample\n",
    "# L - Labels for each sample\n",
    "X, D, L = loadDataSet(dataSetNr)"
   ]
  },
  {
   "cell_type": "code",
   "execution_count": 3,
   "metadata": {},
   "outputs": [],
   "source": [
    "# Select a subset of the training samples\n",
    "numBins = 5                        # Number of bins you want to divide your data into\n",
    "numSamplesPerLabelPerBin = np.inf  # Number of samples per label per bin, set to inf for max number (total number is numLabels*numSamplesPerBin)\n",
    "selectAtRandom = True              # true = select samples at random, false = select the first features\n",
    "\n",
    "# Split data into bins based on the settings above.\n",
    "# The outputs are lists of length numBins, where each item is a data array. Try printing for example XBins[0].shape.\n",
    "XBins, DBins, LBins = selectTrainingSamples(X, D, L, numSamplesPerLabelPerBin, numBins, selectAtRandom)\n",
    "\n",
    "# To extract a single bin from them use e.g.:\n",
    "# XBin0 = XBins[0]\n",
    "# Or to combine several bins into one matrix (good for cross validataion), use the numpy function concatenate:\n",
    "# XBinComb = np.concatenate(XBins[0:4])\n",
    "# This example combines 4 bins, nr 0 to 3.\n",
    "\n",
    "# Add your own code to setup data for training and test here\n",
    "XTrain = np.concatenate(XBins[:4])\n",
    "DTrain = np.concatenate(DBins[:4])\n",
    "LTrain = np.concatenate(LBins[:4])\n",
    "XTest  = XBins[-1]\n",
    "DTest  = DBins[-1]\n",
    "LTest  = LBins[-1]"
   ]
  },
  {
   "cell_type": "code",
   "execution_count": 4,
   "metadata": {},
   "outputs": [
    {
     "data": {
      "text/plain": [
       "1100"
      ]
     },
     "execution_count": 4,
     "metadata": {},
     "output_type": "execute_result"
    }
   ],
   "source": [
    "len(XBins[0])"
   ]
  },
  {
   "cell_type": "code",
   "execution_count": 5,
   "metadata": {},
   "outputs": [
    {
     "data": {
      "text/plain": [
       "(4400, 64)"
      ]
     },
     "execution_count": 5,
     "metadata": {},
     "output_type": "execute_result"
    }
   ],
   "source": [
    "XTrain.shape"
   ]
  },
  {
   "cell_type": "code",
   "execution_count": 6,
   "metadata": {},
   "outputs": [
    {
     "data": {
      "text/plain": [
       "(1100, 64)"
      ]
     },
     "execution_count": 6,
     "metadata": {},
     "output_type": "execute_result"
    }
   ],
   "source": [
    "XTest.shape"
   ]
  },
  {
   "cell_type": "code",
   "execution_count": 7,
   "metadata": {},
   "outputs": [],
   "source": [
    "# Modify the X Matrices so that a bias is added\n",
    "# Note that the bias must be the last feature for the plot code to work\n",
    "\n",
    "# The training data\n",
    "XTrain = np.hstack((XTrain,np.ones([XTrain.shape[0],1], XTrain.dtype)))\n",
    "# The test data\n",
    "XTest = np.hstack((XTest,np.ones([XTest.shape[0],1], XTest.dtype)))"
   ]
  },
  {
   "cell_type": "code",
   "execution_count": 8,
   "metadata": {},
   "outputs": [
    {
     "data": {
      "text/plain": [
       "(4400, 65)"
      ]
     },
     "execution_count": 8,
     "metadata": {},
     "output_type": "execute_result"
    }
   ],
   "source": [
    "XTrain.shape"
   ]
  },
  {
   "cell_type": "code",
   "execution_count": 9,
   "metadata": {},
   "outputs": [
    {
     "name": "stdout",
     "output_type": "stream",
     "text": [
      "n : 0\n",
      "n : 1000\n",
      "n : 2000\n",
      "n : 3000\n",
      "n : 4000\n"
     ]
    }
   ],
   "source": [
    "# Train your multi layer network\n",
    "# Note: You need to modify trainMultiLayer() and runMultiLayer() in classifiers.py in order to train the network\n",
    "\n",
    "if dataSetNr == 1:\n",
    "    numHidden = 2\n",
    "    numIterations = 2000\n",
    "    learningRate  = 0.05 \n",
    "    W0 = np.random.rand(XTest.shape[1],numHidden+1)     # Initialize your weight matrix W\n",
    "    V0 = np.random.rand(numHidden+1, DTest.shape[1])    # Initialize your weight matrix V\n",
    "\n",
    "if dataSetNr == 2:\n",
    "    numHidden = 4\n",
    "    numIterations = 6000\n",
    "    learningRate  = 0.01 \n",
    "    W0 = np.random.rand(XTest.shape[1],numHidden+1)     # Initialize your weight matrix W\n",
    "    V0 = np.random.rand(numHidden+1, DTest.shape[1])    # Initialize your weight matrix V\n",
    "    \n",
    "if dataSetNr == 3:\n",
    "    numHidden = 5\n",
    "    numIterations =  7000\n",
    "    learningRate  = 0.05\n",
    "    np.random.seed(110)\n",
    "    W0 = np.random.normal(loc = 0.0, scale = 1 / numHidden, size = (XTrain.shape[1], numHidden)) # Initialize your weight matrix W from N(0, 1/numHidden)\n",
    "    W0 = np.hstack((W0, np.zeros([W0.shape[0],1], W0.dtype))) # Add zero weight for the biases\n",
    "    V0 = np.random.normal(loc = 0.0, scale = 1 / numHidden, size = (numHidden+1, DTrain.shape[1]))     # Initialize your weight matrix V from N(0, 1/numHidden)\n",
    "    \n",
    "else:\n",
    "    numHidden = 25\n",
    "    numIterations = 5000\n",
    "    learningRate  = 0.01\n",
    "    np.random.seed(0)\n",
    "    W0 = np.random.normal(loc = 0.0, scale = 1 / numHidden, size = (XTrain.shape[1], numHidden)) # Initialize your weight matrix W from N(0, 1/numHidden)\n",
    "    W0 = np.hstack((W0, np.zeros([W0.shape[0],1], W0.dtype))) # Add zero weight for the biases\n",
    "    V0 = np.random.normal(loc = 0.0, scale = 1 / numHidden, size = (numHidden+1, DTrain.shape[1]))     # Initialize your weight matrix V from N(0, 1/numHidden)\n",
    "    \n",
    "    \n",
    "    \n",
    "# Run training loop\n",
    "\n",
    "W, V, ErrTrain, ErrTest = trainMultiLayer(XTrain, DTrain, XTest, DTest ,W0, V0, numIterations, learningRate, batchsize=64)"
   ]
  },
  {
   "cell_type": "code",
   "execution_count": 10,
   "metadata": {},
   "outputs": [
    {
     "data": {
      "text/plain": [
       "Text(0, 0.5, 'Error')"
      ]
     },
     "execution_count": 10,
     "metadata": {},
     "output_type": "execute_result"
    },
    {
     "data": {
      "image/png": "[encoded data removed]",
      "text/plain": [
       "<Figure size 432x288 with 1 Axes>"
      ]
     },
     "metadata": {},
     "output_type": "display_data"
    }
   ],
   "source": [
    "# Plot errors\n",
    "# Note: You should not have to modify this code\n",
    "\n",
    "# [minErrTest, minErrTestInd] = min(ErrTest);\n",
    "minErrTest = ErrTest.min()\n",
    "minErrTestInd = ErrTest.argmin()\n",
    "\n",
    "plt.figure()\n",
    "\n",
    "plt.semilogy(ErrTrain, 'k', linewidth=1.5, label='Training Error')\n",
    "plt.semilogy(ErrTest, 'r', linewidth=1.5, label='Test Error')\n",
    "plt.semilogy(minErrTestInd, minErrTest, 'bo', linewidth=1.5, label='Min Test Error')\n",
    "\n",
    "plt.xlim([0,numIterations])\n",
    "plt.grid('on')\n",
    "plt.title('Training and Test Errors, Multi Layer')\n",
    "plt.legend()\n",
    "plt.xlabel('Epochs')\n",
    "plt.ylabel('Error')"
   ]
  },
  {
   "cell_type": "code",
   "execution_count": 11,
   "metadata": {},
   "outputs": [
    {
     "name": "stdout",
     "output_type": "stream",
     "text": [
      "Confusion matrix:\n",
      "[[109.   0.   0.   0.   3.   0.   0.   0.   0.   0.]\n",
      " [  0.  99.   1.   0.   6.   0.   2.   0.   6.   1.]\n",
      " [  0.   2. 107.   2.   0.   1.   0.   1.   0.   0.]\n",
      " [  1.   0.   0. 100.   0.   1.   0.   0.   3.   4.]\n",
      " [  0.   1.   0.   0.  98.   0.   2.   1.   1.   0.]\n",
      " [  0.   0.   0.   0.   0. 106.   0.   1.   1.   2.]\n",
      " [  0.   0.   0.   0.   2.   0. 106.   0.   0.   0.]\n",
      " [  0.   0.   0.   2.   0.   0.   0. 105.   0.   1.]\n",
      " [  0.   5.   1.   6.   0.   0.   0.   0.  97.   3.]\n",
      " [  0.   3.   1.   0.   1.   2.   0.   2.   2.  99.]]\n",
      "Accuracy: 0.9327\n"
     ]
    }
   ],
   "source": [
    "# Calculate the Confusion Matrix and the Accuracy of the data\n",
    "# Note: you have to modify the calcConfusionMatrix() and calcAccuracy() functions in utils.py yourself.\n",
    "\n",
    "_, LPredTrain, _ = runMultiLayer(XTrain, W, V)\n",
    "_, LPredTest , _ = runMultiLayer(XTest , W, V)\n",
    "\n",
    "# The confusion matrix\n",
    "cM = calcConfusionMatrix(LPredTest, LTest)\n",
    "\n",
    "# The accuracy\n",
    "acc = calcAccuracy(cM)\n",
    "\n",
    "# Print the results\n",
    "print(\"Confusion matrix:\")\n",
    "print(cM)\n",
    "print(f'Accuracy: {acc:.4f}')"
   ]
  },
  {
   "cell_type": "code",
   "execution_count": 124,
   "metadata": {},
   "outputs": [
    {
     "data": {
      "image/png": "[encoded data removed]",
      "text/plain": [
       "<Figure size 432x288 with 16 Axes>"
      ]
     },
     "metadata": {},
     "output_type": "display_data"
    }
   ],
   "source": [
    "# Plot classifications\n",
    "# Note: You should not have to modify this code\n",
    "\n",
    "if dataSetNr < 4:\n",
    "    plotResultDots(XTrain, LTrain, LPredTrain, XTest, LTest, LPredTest, 'multi', [W, V], [])\n",
    "else:\n",
    "    plotResultsOCR(XTest, LTest, LPredTest)"
   ]
  },
  {
   "cell_type": "code",
   "execution_count": null,
   "metadata": {},
   "outputs": [],
   "source": []
  }
 ],
 "metadata": {
  "interpreter": {
   "hash": "bd50aace418a96e8a4fe691a4d2292bd7058ca4eeebcf0b6e2084f539c4e7b28"
  },
  "kernelspec": {
   "display_name": "Python 3 (ipykernel)",
   "language": "python",
   "name": "python3"
  },
  "language_info": {
   "codemirror_mode": {
    "name": "ipython",
    "version": 3
   },
   "file_extension": ".py",
   "mimetype": "text/x-python",
   "name": "python",
   "nbconvert_exporter": "python",
   "pygments_lexer": "ipython3",
   "version": "3.9.7"
  }
 },
 "nbformat": 4,
 "nbformat_minor": 4
}
